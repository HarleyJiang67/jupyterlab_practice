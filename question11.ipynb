{
 "cells": [
  {
   "cell_type": "markdown",
   "id": "f844f3ab-35d1-48e3-a947-b96e4d7632ab",
   "metadata": {},
   "source": [
    "# Notebook for assignment 7"
   ]
  },
  {
   "cell_type": "code",
   "execution_count": 1,
   "id": "cd5ed929-a2be-41a3-8b17-ace0a5ce97f8",
   "metadata": {},
   "outputs": [
    {
     "name": "stdout",
     "output_type": "stream",
     "text": [
      "5.0\n"
     ]
    }
   ],
   "source": [
    "def compute_mean(values):\n",
    "    mean = sum(values) / len(values)\n",
    "    print(mean)\n",
    "\n",
    "# Call the function with the specified input\n",
    "compute_mean([2, 4, 6, 8])"
   ]
  },
  {
   "cell_type": "markdown",
   "id": "6d9a40a2-fc89-4a4d-af38-dc6e22cc88a2",
   "metadata": {},
   "source": [
    "### Mean Function\n",
    "The mean function of a set of values. Where\n",
    "*  $ x_1, x_2...x_n $ are the value in the set\n",
    "*  $ n $ is the total number of values in the set\n",
    "\n",
    "\n",
    "$$\n",
    "\\text{mean} = \\frac{x_1 + x_2 + \\dots + x_n}{n} = \\frac{1}{n} \\sum_{i=1}^n x_i\n",
    "$$"
   ]
  },
  {
   "cell_type": "markdown",
   "id": "b51c705b-a64e-4443-820c-795c68ca47b1",
   "metadata": {},
   "source": []
  }
 ],
 "metadata": {
  "kernelspec": {
   "display_name": "Python 3 (ipykernel)",
   "language": "python",
   "name": "python3"
  },
  "language_info": {
   "codemirror_mode": {
    "name": "ipython",
    "version": 3
   },
   "file_extension": ".py",
   "mimetype": "text/x-python",
   "name": "python",
   "nbconvert_exporter": "python",
   "pygments_lexer": "ipython3",
   "version": "3.12.3"
  }
 },
 "nbformat": 4,
 "nbformat_minor": 5
}
